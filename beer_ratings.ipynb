{
  "nbformat": 4,
  "nbformat_minor": 0,
  "metadata": {
    "kernelspec": {
      "display_name": "Python 3",
      "language": "python",
      "name": "python3"
    },
    "language_info": {
      "codemirror_mode": {
        "name": "ipython",
        "version": 3
      },
      "file_extension": ".py",
      "mimetype": "text/x-python",
      "name": "python",
      "nbconvert_exporter": "python",
      "pygments_lexer": "ipython3",
      "version": "3.7.4"
    },
    "colab": {
      "name": "beer ratings.ipynb",
      "provenance": []
    }
  },
  "cells": [
    {
      "cell_type": "markdown",
      "metadata": {
        "id": "RvV9n1AiQvLX"
      },
      "source": [
        "### Importing Libraries"
      ]
    },
    {
      "cell_type": "code",
      "metadata": {
        "id": "wZ0vPOFUQtNa"
      },
      "source": [
        "import pandas as pd\n",
        "import numpy as np\n",
        "import matplotlib.pyplot as plt\n",
        "import seaborn as sns"
      ],
      "execution_count": 1,
      "outputs": []
    },
    {
      "cell_type": "code",
      "metadata": {
        "id": "MPuvWUXtJHOl"
      },
      "source": [
        "data=pd.read_csv('/content/sample_data/train.csv',sep=',')"
      ],
      "execution_count": 46,
      "outputs": []
    },
    {
      "cell_type": "code",
      "metadata": {
        "id": "hPJxkIdTJHO7",
        "outputId": "63a02f9b-1fd1-4de3-b61c-2da5217e7a88",
        "colab": {
          "base_uri": "https://localhost:8080/",
          "height": 271
        }
      },
      "source": [
        "data.head(2)"
      ],
      "execution_count": 3,
      "outputs": [
        {
          "output_type": "execute_result",
          "data": {
            "text/html": [
              "<div>\n",
              "<style scoped>\n",
              "    .dataframe tbody tr th:only-of-type {\n",
              "        vertical-align: middle;\n",
              "    }\n",
              "\n",
              "    .dataframe tbody tr th {\n",
              "        vertical-align: top;\n",
              "    }\n",
              "\n",
              "    .dataframe thead th {\n",
              "        text-align: right;\n",
              "    }\n",
              "</style>\n",
              "<table border=\"1\" class=\"dataframe\">\n",
              "  <thead>\n",
              "    <tr style=\"text-align: right;\">\n",
              "      <th></th>\n",
              "      <th>index</th>\n",
              "      <th>beer/ABV</th>\n",
              "      <th>beer/beerId</th>\n",
              "      <th>beer/brewerId</th>\n",
              "      <th>beer/name</th>\n",
              "      <th>beer/style</th>\n",
              "      <th>review/appearance</th>\n",
              "      <th>review/aroma</th>\n",
              "      <th>review/overall</th>\n",
              "      <th>review/palate</th>\n",
              "      <th>review/taste</th>\n",
              "      <th>review/text</th>\n",
              "      <th>review/timeStruct</th>\n",
              "      <th>review/timeUnix</th>\n",
              "      <th>user/ageInSeconds</th>\n",
              "      <th>user/birthdayRaw</th>\n",
              "      <th>user/birthdayUnix</th>\n",
              "      <th>user/gender</th>\n",
              "      <th>user/profileName</th>\n",
              "    </tr>\n",
              "  </thead>\n",
              "  <tbody>\n",
              "    <tr>\n",
              "      <th>0</th>\n",
              "      <td>40163</td>\n",
              "      <td>5.0</td>\n",
              "      <td>46634</td>\n",
              "      <td>14338</td>\n",
              "      <td>Chiostro</td>\n",
              "      <td>Herbed / Spiced Beer</td>\n",
              "      <td>4.0</td>\n",
              "      <td>4.0</td>\n",
              "      <td>4.0</td>\n",
              "      <td>4.0</td>\n",
              "      <td>4.0</td>\n",
              "      <td>Pours a clouded gold with a thin white head. N...</td>\n",
              "      <td>{'min': 38, 'hour': 3, 'mday': 16, 'sec': 10, ...</td>\n",
              "      <td>1229398690</td>\n",
              "      <td>NaN</td>\n",
              "      <td>NaN</td>\n",
              "      <td>NaN</td>\n",
              "      <td>NaN</td>\n",
              "      <td>RblWthACoz</td>\n",
              "    </tr>\n",
              "    <tr>\n",
              "      <th>1</th>\n",
              "      <td>8135</td>\n",
              "      <td>11.0</td>\n",
              "      <td>3003</td>\n",
              "      <td>395</td>\n",
              "      <td>Bearded Pat's Barleywine</td>\n",
              "      <td>American Barleywine</td>\n",
              "      <td>4.0</td>\n",
              "      <td>3.5</td>\n",
              "      <td>3.5</td>\n",
              "      <td>3.5</td>\n",
              "      <td>3.0</td>\n",
              "      <td>12oz bottle into 8oz snifter.\\t\\tDeep ruby red...</td>\n",
              "      <td>{'min': 38, 'hour': 23, 'mday': 8, 'sec': 58, ...</td>\n",
              "      <td>1218238738</td>\n",
              "      <td>NaN</td>\n",
              "      <td>NaN</td>\n",
              "      <td>NaN</td>\n",
              "      <td>NaN</td>\n",
              "      <td>BeerSox</td>\n",
              "    </tr>\n",
              "  </tbody>\n",
              "</table>\n",
              "</div>"
            ],
            "text/plain": [
              "   index  beer/ABV  beer/beerId  ...  user/birthdayUnix user/gender user/profileName\n",
              "0  40163       5.0        46634  ...                NaN         NaN       RblWthACoz\n",
              "1   8135      11.0         3003  ...                NaN         NaN          BeerSox\n",
              "\n",
              "[2 rows x 19 columns]"
            ]
          },
          "metadata": {
            "tags": []
          },
          "execution_count": 3
        }
      ]
    },
    {
      "cell_type": "code",
      "metadata": {
        "id": "iMThZIA5JHPN",
        "outputId": "8c51064e-593a-452d-97f8-16239b8e8035",
        "colab": {
          "base_uri": "https://localhost:8080/",
          "height": 35
        }
      },
      "source": [
        "data.shape"
      ],
      "execution_count": 4,
      "outputs": [
        {
          "output_type": "execute_result",
          "data": {
            "text/plain": [
              "(37500, 19)"
            ]
          },
          "metadata": {
            "tags": []
          },
          "execution_count": 4
        }
      ]
    },
    {
      "cell_type": "code",
      "metadata": {
        "id": "ZETLzyWtJHPa",
        "outputId": "ad025b59-0a6c-4e51-a3eb-f4379f16b100",
        "colab": {
          "base_uri": "https://localhost:8080/",
          "height": 645
        }
      },
      "source": [
        "#Knowing about types and missing percentage of each column\n",
        "dtypes=pd.DataFrame(data.dtypes,columns=['dtypes'])\n",
        "d_missin=pd.DataFrame(data.isnull().mean(),columns=['missin_per'])\n",
        "missn=pd.concat([dtypes,d_missin],axis=1)\n",
        "missn.sort_values(by='missin_per',ascending=False)"
      ],
      "execution_count": 5,
      "outputs": [
        {
          "output_type": "execute_result",
          "data": {
            "text/html": [
              "<div>\n",
              "<style scoped>\n",
              "    .dataframe tbody tr th:only-of-type {\n",
              "        vertical-align: middle;\n",
              "    }\n",
              "\n",
              "    .dataframe tbody tr th {\n",
              "        vertical-align: top;\n",
              "    }\n",
              "\n",
              "    .dataframe thead th {\n",
              "        text-align: right;\n",
              "    }\n",
              "</style>\n",
              "<table border=\"1\" class=\"dataframe\">\n",
              "  <thead>\n",
              "    <tr style=\"text-align: right;\">\n",
              "      <th></th>\n",
              "      <th>dtypes</th>\n",
              "      <th>missin_per</th>\n",
              "    </tr>\n",
              "  </thead>\n",
              "  <tbody>\n",
              "    <tr>\n",
              "      <th>user/birthdayUnix</th>\n",
              "      <td>float64</td>\n",
              "      <td>0.790507</td>\n",
              "    </tr>\n",
              "    <tr>\n",
              "      <th>user/birthdayRaw</th>\n",
              "      <td>object</td>\n",
              "      <td>0.790507</td>\n",
              "    </tr>\n",
              "    <tr>\n",
              "      <th>user/ageInSeconds</th>\n",
              "      <td>float64</td>\n",
              "      <td>0.790507</td>\n",
              "    </tr>\n",
              "    <tr>\n",
              "      <th>user/gender</th>\n",
              "      <td>object</td>\n",
              "      <td>0.591627</td>\n",
              "    </tr>\n",
              "    <tr>\n",
              "      <th>review/text</th>\n",
              "      <td>object</td>\n",
              "      <td>0.000267</td>\n",
              "    </tr>\n",
              "    <tr>\n",
              "      <th>user/profileName</th>\n",
              "      <td>object</td>\n",
              "      <td>0.000133</td>\n",
              "    </tr>\n",
              "    <tr>\n",
              "      <th>review/taste</th>\n",
              "      <td>float64</td>\n",
              "      <td>0.000000</td>\n",
              "    </tr>\n",
              "    <tr>\n",
              "      <th>review/timeUnix</th>\n",
              "      <td>int64</td>\n",
              "      <td>0.000000</td>\n",
              "    </tr>\n",
              "    <tr>\n",
              "      <th>review/timeStruct</th>\n",
              "      <td>object</td>\n",
              "      <td>0.000000</td>\n",
              "    </tr>\n",
              "    <tr>\n",
              "      <th>index</th>\n",
              "      <td>int64</td>\n",
              "      <td>0.000000</td>\n",
              "    </tr>\n",
              "    <tr>\n",
              "      <th>beer/ABV</th>\n",
              "      <td>float64</td>\n",
              "      <td>0.000000</td>\n",
              "    </tr>\n",
              "    <tr>\n",
              "      <th>review/overall</th>\n",
              "      <td>float64</td>\n",
              "      <td>0.000000</td>\n",
              "    </tr>\n",
              "    <tr>\n",
              "      <th>review/aroma</th>\n",
              "      <td>float64</td>\n",
              "      <td>0.000000</td>\n",
              "    </tr>\n",
              "    <tr>\n",
              "      <th>review/appearance</th>\n",
              "      <td>float64</td>\n",
              "      <td>0.000000</td>\n",
              "    </tr>\n",
              "    <tr>\n",
              "      <th>beer/style</th>\n",
              "      <td>object</td>\n",
              "      <td>0.000000</td>\n",
              "    </tr>\n",
              "    <tr>\n",
              "      <th>beer/name</th>\n",
              "      <td>object</td>\n",
              "      <td>0.000000</td>\n",
              "    </tr>\n",
              "    <tr>\n",
              "      <th>beer/brewerId</th>\n",
              "      <td>int64</td>\n",
              "      <td>0.000000</td>\n",
              "    </tr>\n",
              "    <tr>\n",
              "      <th>beer/beerId</th>\n",
              "      <td>int64</td>\n",
              "      <td>0.000000</td>\n",
              "    </tr>\n",
              "    <tr>\n",
              "      <th>review/palate</th>\n",
              "      <td>float64</td>\n",
              "      <td>0.000000</td>\n",
              "    </tr>\n",
              "  </tbody>\n",
              "</table>\n",
              "</div>"
            ],
            "text/plain": [
              "                    dtypes  missin_per\n",
              "user/birthdayUnix  float64    0.790507\n",
              "user/birthdayRaw    object    0.790507\n",
              "user/ageInSeconds  float64    0.790507\n",
              "user/gender         object    0.591627\n",
              "review/text         object    0.000267\n",
              "user/profileName    object    0.000133\n",
              "review/taste       float64    0.000000\n",
              "review/timeUnix      int64    0.000000\n",
              "review/timeStruct   object    0.000000\n",
              "index                int64    0.000000\n",
              "beer/ABV           float64    0.000000\n",
              "review/overall     float64    0.000000\n",
              "review/aroma       float64    0.000000\n",
              "review/appearance  float64    0.000000\n",
              "beer/style          object    0.000000\n",
              "beer/name           object    0.000000\n",
              "beer/brewerId        int64    0.000000\n",
              "beer/beerId          int64    0.000000\n",
              "review/palate      float64    0.000000"
            ]
          },
          "metadata": {
            "tags": []
          },
          "execution_count": 5
        }
      ]
    },
    {
      "cell_type": "code",
      "metadata": {
        "scrolled": true,
        "id": "_8ZP-nnHJHPu",
        "outputId": "5180be14-1680-442f-95bc-74637642121f",
        "colab": {
          "base_uri": "https://localhost:8080/",
          "height": 1000
        }
      },
      "source": [
        "for col in missn[(missn['dtypes']=='object') ].index:\n",
        "    print(col+\"----------\")\n",
        "    print(data[col].unique())\n",
        "    print(len(data[col].unique()))"
      ],
      "execution_count": 6,
      "outputs": [
        {
          "output_type": "stream",
          "text": [
            "beer/name----------\n",
            "['Chiostro' \"Bearded Pat's Barleywine\" \"Naughty Nellie's Ale\" ...\n",
            " 'Pszeniczne' 'Cauldron Brew' 'MoJo Belgian Style Abbey Dubbel']\n",
            "1688\n",
            "beer/style----------\n",
            "['Herbed / Spiced Beer' 'American Barleywine' 'American Pale Ale (APA)'\n",
            " 'Czech Pilsener' 'English Pale Ale' 'Russian Imperial Stout'\n",
            " 'American Wild Ale' 'Pumpkin Ale' 'English Barleywine' 'American IPA'\n",
            " 'Scotch Ale / Wee Heavy' 'American Double / Imperial Stout'\n",
            " 'Euro Pale Lager' 'Maibock / Helles Bock' 'American Amber / Red Ale'\n",
            " 'Rye Beer' 'American Double / Imperial IPA' 'MÃ¤rzen / Oktoberfest'\n",
            " 'Fruit / Vegetable Beer' 'Witbier' 'Light Lager' 'Rauchbier'\n",
            " 'American Porter' 'Hefeweizen' 'Extra Special / Strong Bitter (ESB)'\n",
            " 'Wheatwine' 'English Strong Ale' 'Braggot' 'Euro Strong Lager'\n",
            " 'Munich Helles Lager' 'English India Pale Ale (IPA)' 'Altbier'\n",
            " 'Doppelbock' 'American Brown Ale' 'Munich Dunkel Lager' 'Irish Dry Stout'\n",
            " 'KÃ¶lsch' 'Foreign / Export Stout' 'Cream Ale' 'Lambic - Unblended'\n",
            " 'Scottish Ale' 'Baltic Porter' 'Belgian IPA' 'Old Ale' 'German Pilsener'\n",
            " 'Bock' 'English Brown Ale' 'American Pale Wheat Ale' 'Smoked Beer'\n",
            " 'American Strong Ale' 'English Porter' 'Belgian Pale Ale' 'English Stout'\n",
            " 'American Adjunct Lager' 'English Bitter' 'Euro Dark Lager' 'Black & Tan'\n",
            " 'American Stout' 'Belgian Strong Dark Ale' 'Belgian Dark Ale' 'Tripel'\n",
            " 'American Blonde Ale' 'Belgian Strong Pale Ale'\n",
            " 'Scottish Gruit / Ancient Herbed Ale' 'Winter Warmer' 'Oatmeal Stout'\n",
            " 'American Malt Liquor' 'Dubbel' 'American Black Ale'\n",
            " 'American Amber / Red Lager' 'Dortmunder / Export Lager'\n",
            " 'Saison / Farmhouse Ale' 'BiÃ¨re de Garde' 'Quadrupel (Quad)'\n",
            " 'Weizenbock' 'Dunkelweizen' 'Schwarzbier' 'American Pale Lager'\n",
            " 'American Dark Wheat Ale' 'English Dark Mild Ale'\n",
            " 'Keller Bier / Zwickel Bier' 'Milk / Sweet Stout' 'Irish Red Ale'\n",
            " 'California Common / Steam Beer' 'Low Alcohol Beer'\n",
            " 'English Pale Mild Ale' 'Vienna Lager' 'Chile Beer'\n",
            " 'American Double / Imperial Pilsner' 'Flanders Oud Bruin'\n",
            " 'Flanders Red Ale' 'Lambic - Fruit' 'Eisbock' 'Kristalweizen'\n",
            " 'Berliner Weissbier']\n",
            "95\n",
            "review/text----------\n",
            "['Pours a clouded gold with a thin white head. Nose is quite floral with a larger amount of spices added. Definitely a spice forward fragrance. Flavor has an odd burn that hits on the first sip. After it fades it seems like a dirty vanilla aftertaste. Perhaps this is the absinthe? Regardless of that, I get a quite spiced tone on the tongue. Almost feel a little heat from it. I think that my inexperienced palate on these spices is contributing to my ignorance of what precisely they are. Overall a nice drinker indeed.'\n",
            " \"12oz bottle into 8oz snifter.\\t\\tDeep ruby red hue with a one finger light tan head that settles to a thin rim along the glass.\\t\\tSharp piercing hops with some light hard candy in the background. \\t\\tThe hops provide some bitterness, but they aren't as sharp as I would have expected. Mostly a light candy flavor like in the aroma. Full bodied with good carbonation. The finish is some lingering sweet flavor with a bit of bitterness.\\t\\tA very sweet barleywine with a weird hard candy flavor that seemed to dominate. Not bad, but I would have liked a little more complexity.\"\n",
            " 'First enjoyed at the brewpub about 2 years ago, I finally managed to get a bottle.\\tSlightly hazy orange-amber topped with a two finger foamy white head.\\tVery nice fruity aroma, soft and floral, tea and toast.\\tFruity, slightly grapefruity hop note, toast and biscuity malt balance. Hoppier and more floral when it warms up.\\tLight-medium bodied, liked it better on draft but still a solid beer.'\n",
            " ...\n",
            " 'Sampled on tap at Redbones.\\t\\tThis marzen style beer poured a clear, copper color with white foam that settled. The smell was a mild, slightly sweet malty aroma. The taste was slightly sweet (but less sweet than many other of this style) and tangy, malty, with the hops making their presence felt in the finish. There was also a bit of a dry, oaky flavor. The mouthfeel was smooth and creamy up front, but with a dry finish. The body and carbonation were medium. The aftertaste was dry and lingered nicely. This was a good oktoberfest beer.'\n",
            " \"Pours a black body with a brown head that very quickly fizzles away to a thin brown lace.\\t\\tAroma smells of coffee beans, bourbon, chocolate, malt.\\t\\tTaste a lot of bourbon and coffee right off the bat. Then, hints of chocolate and something very sweet like a syrup. After letting the beer settle I find the flavors come more together as it warms up. An incredibly tasty stout.\\t\\tMouthfeel is very impressive. Thick, but not too thick with a velvet like feel.\\t\\tThis beer is heavy and fills you up, also 11.20% so its not a beer you need to drink a whole lot of. Still though, you might find it hard to pass up another glass.\\t\\tOverall this beer is one of the best stouts i'm yet to have.\"\n",
            " 'A nice sweet, malty beer...nothing complex, just a smooth refreshing drink that reveals no hint of 8.3 abv.\\t\\tPours an ice-tea colored brown. If held to the light, the very center of the beer is dense. Lots of light comes through on the sides. Tan head is average size with poor retention. Good lacing. Smell and taste are of caramel malts. Must be balanced very well because it is quite sweet but not cloying or too sweet for mass consumption. Mouthfeel is thick and rich. Drinkability is good. I finished off the 12 oz bottle quickly and could have enjoyed more.\\t\\tThis is one you have to be in the mood for, but if you are looking for something well made and sweet, this will do it for you.']\n",
            "37483\n",
            "review/timeStruct----------\n",
            "[\"{'min': 38, 'hour': 3, 'mday': 16, 'sec': 10, 'year': 2008, 'wday': 1, 'mon': 12, 'isdst': 0, 'yday': 351}\"\n",
            " \"{'min': 38, 'hour': 23, 'mday': 8, 'sec': 58, 'year': 2008, 'wday': 4, 'mon': 8, 'isdst': 0, 'yday': 221}\"\n",
            " \"{'min': 7, 'hour': 18, 'mday': 26, 'sec': 2, 'year': 2004, 'wday': 4, 'mon': 11, 'isdst': 0, 'yday': 331}\"\n",
            " ...\n",
            " \"{'min': 3, 'hour': 1, 'mday': 25, 'sec': 36, 'year': 2003, 'wday': 5, 'mon': 10, 'isdst': 0, 'yday': 298}\"\n",
            " \"{'min': 52, 'hour': 19, 'mday': 29, 'sec': 33, 'year': 2011, 'wday': 5, 'mon': 1, 'isdst': 0, 'yday': 29}\"\n",
            " \"{'min': 40, 'hour': 18, 'mday': 4, 'sec': 28, 'year': 2009, 'wday': 4, 'mon': 9, 'isdst': 0, 'yday': 247}\"]\n",
            "37490\n",
            "user/birthdayRaw----------\n",
            "[nan 'Aug 10, 1976' 'Oct 18, 1976' ... 'Mar 25, 1988' 'Jul 15, 1986'\n",
            " 'May 3, 1987']\n",
            "1433\n",
            "user/gender----------\n",
            "[nan 'Male' 'Female']\n",
            "3\n",
            "user/profileName----------\n",
            "['RblWthACoz' 'BeerSox' 'mschofield' ... 'Antikythera' 'JAA' 'dvsbizzyb']\n",
            "7442\n"
          ],
          "name": "stdout"
        }
      ]
    },
    {
      "cell_type": "markdown",
      "metadata": {
        "id": "KvQdbjweJHP9"
      },
      "source": [
        "### EDA"
      ]
    },
    {
      "cell_type": "code",
      "metadata": {
        "id": "-BDhEb3DJHP_",
        "outputId": "27899f08-8f6e-4b92-d163-96c6bae68f84",
        "colab": {
          "base_uri": "https://localhost:8080/",
          "height": 565
        }
      },
      "source": [
        "fig = plt.gcf()\n",
        "fig.set_size_inches(20,8)\n",
        "ax=sns.countplot('beer/name',data=data,order=data['beer/name'].value_counts().iloc[:10].index)\n",
        "ax.set_xticklabels(ax.get_xticklabels(), rotation=45, ha=\"right\")\n",
        "plt.tight_layout()\n",
        "plt.show()"
      ],
      "execution_count": 7,
      "outputs": [
        {
          "output_type": "stream",
          "text": [
            "/usr/local/lib/python3.6/dist-packages/seaborn/_decorators.py:43: FutureWarning: Pass the following variable as a keyword arg: x. From version 0.12, the only valid positional argument will be `data`, and passing other arguments without an explicit keyword will result in an error or misinterpretation.\n",
            "  FutureWarning\n"
          ],
          "name": "stderr"
        },
        {
          "output_type": "display_data",
          "data": {
            "image/png": "[encoded data removed]",
            "text/plain": [
              "<Figure size 1440x576 with 1 Axes>"
            ]
          },
          "metadata": {
            "tags": [],
            "needs_background": "light"
          }
        }
      ]
    },
    {
      "cell_type": "code",
      "metadata": {
        "id": "9D3Z-fgwJHQK",
        "outputId": "326835d4-5ec7-4cc1-f0c6-ceaf5fe4b445",
        "colab": {
          "base_uri": "https://localhost:8080/",
          "height": 569
        }
      },
      "source": [
        "fig = plt.gcf()\n",
        "fig.set_size_inches(20,8)\n",
        "ax=sns.countplot('beer/style',data=data,order=data['beer/style'].value_counts().iloc[:10].index)\n",
        "ax.set_xticklabels(ax.get_xticklabels(), rotation=45, ha=\"right\")\n",
        "plt.tight_layout()\n",
        "plt.show()"
      ],
      "execution_count": 8,
      "outputs": [
        {
          "output_type": "stream",
          "text": [
            "/usr/local/lib/python3.6/dist-packages/seaborn/_decorators.py:43: FutureWarning: Pass the following variable as a keyword arg: x. From version 0.12, the only valid positional argument will be `data`, and passing other arguments without an explicit keyword will result in an error or misinterpretation.\n",
            "  FutureWarning\n"
          ],
          "name": "stderr"
        },
        {
          "output_type": "display_data",
          "data": {
            "image/png": "[encoded data removed]",
            "text/plain": [
              "<Figure size 1440x576 with 1 Axes>"
            ]
          },
          "metadata": {
            "tags": [],
            "needs_background": "light"
          }
        }
      ]
    },
    {
      "cell_type": "code",
      "metadata": {
        "id": "XHheVdzVJHQT",
        "outputId": "070abad1-9eee-4414-cb7a-00e25b34a6b9",
        "colab": {
          "base_uri": "https://localhost:8080/",
          "height": 565
        }
      },
      "source": [
        "fig = plt.gcf()\n",
        "fig.set_size_inches(20,8)\n",
        "ax=sns.countplot('user/gender',data=data,order=data['user/gender'].value_counts().iloc[:10].index)\n",
        "ax.set_xticklabels(ax.get_xticklabels(), rotation=45, ha=\"right\")\n",
        "plt.tight_layout()\n",
        "plt.show()"
      ],
      "execution_count": 9,
      "outputs": [
        {
          "output_type": "stream",
          "text": [
            "/usr/local/lib/python3.6/dist-packages/seaborn/_decorators.py:43: FutureWarning: Pass the following variable as a keyword arg: x. From version 0.12, the only valid positional argument will be `data`, and passing other arguments without an explicit keyword will result in an error or misinterpretation.\n",
            "  FutureWarning\n"
          ],
          "name": "stderr"
        },
        {
          "output_type": "display_data",
          "data": {
            "image/png": "[encoded data removed]",
            "text/plain": [
              "<Figure size 1440x576 with 1 Axes>"
            ]
          },
          "metadata": {
            "tags": [],
            "needs_background": "light"
          }
        }
      ]
    },
    {
      "cell_type": "code",
      "metadata": {
        "scrolled": true,
        "id": "HBAwtldYJHQh",
        "outputId": "0fc61d11-0a68-4f16-957c-b863aedf38f6",
        "colab": {
          "base_uri": "https://localhost:8080/",
          "height": 546
        }
      },
      "source": [
        "var_v=pd.DataFrame(data.groupby('beer/name')['review/appearance'].mean())\n",
        "var_v=var_v.sort_values(by='review/appearance',ascending=False)\n",
        "var_v=var_v.head(20)\n",
        "var_v.plot.bar()\n",
        "plt.show()"
      ],
      "execution_count": 10,
      "outputs": [
        {
          "output_type": "display_data",
          "data": {
            "image/png": "[encoded data removed]",
            "text/plain": [
              "<Figure size 432x288 with 1 Axes>"
            ]
          },
          "metadata": {
            "tags": [],
            "needs_background": "light"
          }
        }
      ]
    },
    {
      "cell_type": "code",
      "metadata": {
        "scrolled": true,
        "id": "O5SUpcguJHQs",
        "outputId": "d4147809-6b07-41f2-be92-d4cb20680c8e",
        "colab": {
          "base_uri": "https://localhost:8080/",
          "height": 675
        }
      },
      "source": [
        "var_v=pd.DataFrame(data.groupby('beer/name')['review/aroma'].mean())\n",
        "var_v=var_v.sort_values(by='review/aroma',ascending=False)\n",
        "var_v=var_v.head(20)\n",
        "var_v.plot.bar()\n",
        "plt.show()"
      ],
      "execution_count": 11,
      "outputs": [
        {
          "output_type": "stream",
          "text": [
            "/usr/local/lib/python3.6/dist-packages/matplotlib/backends/backend_agg.py:214: RuntimeWarning: Glyph 128 missing from current font.\n",
            "  font.set_text(s, 0.0, flags=flags)\n",
            "/usr/local/lib/python3.6/dist-packages/matplotlib/backends/backend_agg.py:214: RuntimeWarning: Glyph 152 missing from current font.\n",
            "  font.set_text(s, 0.0, flags=flags)\n",
            "/usr/local/lib/python3.6/dist-packages/matplotlib/backends/backend_agg.py:183: RuntimeWarning: Glyph 128 missing from current font.\n",
            "  font.set_text(s, 0, flags=flags)\n",
            "/usr/local/lib/python3.6/dist-packages/matplotlib/backends/backend_agg.py:183: RuntimeWarning: Glyph 152 missing from current font.\n",
            "  font.set_text(s, 0, flags=flags)\n"
          ],
          "name": "stderr"
        },
        {
          "output_type": "display_data",
          "data": {
            "image/png": "[encoded data removed]",
            "text/plain": [
              "<Figure size 432x288 with 1 Axes>"
            ]
          },
          "metadata": {
            "tags": [],
            "needs_background": "light"
          }
        }
      ]
    },
    {
      "cell_type": "code",
      "metadata": {
        "scrolled": true,
        "id": "9udFhEmPJHQ6",
        "outputId": "a60eebc3-d7b4-4c9a-818f-756f646e33b5",
        "colab": {
          "base_uri": "https://localhost:8080/",
          "height": 579
        }
      },
      "source": [
        "var_v=pd.DataFrame(data.groupby('beer/name')['review/overall'].mean())\n",
        "var_v=var_v.sort_values(by='review/overall',ascending=False)\n",
        "var_v=var_v.head(20)\n",
        "var_v.plot.bar()\n",
        "plt.show()"
      ],
      "execution_count": 12,
      "outputs": [
        {
          "output_type": "display_data",
          "data": {
            "image/png": "[encoded data removed]",
            "text/plain": [
              "<Figure size 432x288 with 1 Axes>"
            ]
          },
          "metadata": {
            "tags": [],
            "needs_background": "light"
          }
        }
      ]
    },
    {
      "cell_type": "code",
      "metadata": {
        "scrolled": true,
        "id": "25X3w5w2JHRI",
        "outputId": "9010d126-deee-4e45-c5f0-8e11e7ba635f",
        "colab": {
          "base_uri": "https://localhost:8080/",
          "height": 546
        }
      },
      "source": [
        "var_v=pd.DataFrame(data.groupby('beer/name')['review/taste'].mean())\n",
        "var_v=var_v.sort_values(by='review/taste',ascending=False)\n",
        "var_v=var_v.head(20)\n",
        "var_v.plot.bar()\n",
        "plt.show()"
      ],
      "execution_count": 13,
      "outputs": [
        {
          "output_type": "display_data",
          "data": {
            "image/png": "[encoded data removed]",
            "text/plain": [
              "<Figure size 432x288 with 1 Axes>"
            ]
          },
          "metadata": {
            "tags": [],
            "needs_background": "light"
          }
        }
      ]
    },
    {
      "cell_type": "code",
      "metadata": {
        "scrolled": true,
        "id": "GuBRgMYgJHRY",
        "outputId": "f39ee27f-dc8b-4554-a182-8e243713a51f",
        "colab": {
          "base_uri": "https://localhost:8080/",
          "height": 620
        }
      },
      "source": [
        "data.hist(bins=50, figsize=(10,10))\n",
        "plt.show()"
      ],
      "execution_count": 14,
      "outputs": [
        {
          "output_type": "display_data",
          "data": {
            "image/png": "[encoded data removed]",
            "text/plain": [
              "<Figure size 720x720 with 12 Axes>"
            ]
          },
          "metadata": {
            "tags": [],
            "needs_background": "light"
          }
        }
      ]
    },
    {
      "cell_type": "markdown",
      "metadata": {
        "id": "9TNXs1wtY1yw"
      },
      "source": [
        "### Feature Engineering"
      ]
    },
    {
      "cell_type": "code",
      "metadata": {
        "id": "WXAFNIc-Yx09"
      },
      "source": [
        "data['user/ageInSeconds']=data['user/ageInSeconds'].fillna(data['user/ageInSeconds'].mean())"
      ],
      "execution_count": 47,
      "outputs": []
    },
    {
      "cell_type": "code",
      "metadata": {
        "id": "sqbhk1eBjLOQ",
        "outputId": "4b0c8824-ff47-4751-c4a0-623d78f3b521",
        "colab": {
          "base_uri": "https://localhost:8080/",
          "height": 35
        }
      },
      "source": [
        "365*24*60*60"
      ],
      "execution_count": 48,
      "outputs": [
        {
          "output_type": "execute_result",
          "data": {
            "text/plain": [
              "31536000"
            ]
          },
          "metadata": {
            "tags": []
          },
          "execution_count": 48
        }
      ]
    },
    {
      "cell_type": "code",
      "metadata": {
        "id": "GpakG9aBjRzA"
      },
      "source": [
        "data['age']=data['user/ageInSeconds']/31536000"
      ],
      "execution_count": 49,
      "outputs": []
    },
    {
      "cell_type": "code",
      "metadata": {
        "id": "G4pik1AJjXOO"
      },
      "source": [
        "data['age']=abs(data['age'].astype(int))"
      ],
      "execution_count": 50,
      "outputs": []
    },
    {
      "cell_type": "markdown",
      "metadata": {
        "id": "CynYZKzGJHRk"
      },
      "source": [
        "### Data Pre-processing\n"
      ]
    },
    {
      "cell_type": "code",
      "metadata": {
        "id": "4_HzRehJJHRm",
        "outputId": "3befd2bb-e272-4bb3-f3ca-51e8610fc7a4",
        "colab": {
          "base_uri": "https://localhost:8080/",
          "height": 368
        }
      },
      "source": [
        "#plotting missing values\n",
        "missn[missn['missin_per']>0].plot.bar()"
      ],
      "execution_count": 15,
      "outputs": [
        {
          "output_type": "execute_result",
          "data": {
            "text/plain": [
              "<matplotlib.axes._subplots.AxesSubplot at 0x7f49624c3c88>"
            ]
          },
          "metadata": {
            "tags": []
          },
          "execution_count": 15
        },
        {
          "output_type": "display_data",
          "data": {
            "image/png": "[encoded data removed]",
            "text/plain": [
              "<Figure size 432x288 with 1 Axes>"
            ]
          },
          "metadata": {
            "tags": [],
            "needs_background": "light"
          }
        }
      ]
    },
    {
      "cell_type": "code",
      "metadata": {
        "id": "jwArKYAPJHR2",
        "outputId": "8bb02aef-45c6-46fb-965c-37f06492c0c1",
        "colab": {
          "base_uri": "https://localhost:8080/",
          "height": 35
        }
      },
      "source": [
        "data.shape"
      ],
      "execution_count": 16,
      "outputs": [
        {
          "output_type": "execute_result",
          "data": {
            "text/plain": [
              "(37500, 19)"
            ]
          },
          "metadata": {
            "tags": []
          },
          "execution_count": 16
        }
      ]
    },
    {
      "cell_type": "code",
      "metadata": {
        "id": "jInaB8hYJHR_"
      },
      "source": [
        "threshold = 0.7\n",
        "#Dropping columns with missing value rate higher than threshold\n",
        "data = data[data.columns[data.isnull().mean() < threshold]]\n",
        "\n",
        "#Dropping rows with missing value rate higher than threshold\n",
        "data = data.loc[data.isnull().mean(axis=1) < threshold]"
      ],
      "execution_count": 17,
      "outputs": []
    },
    {
      "cell_type": "code",
      "metadata": {
        "id": "R_WIcyKrJHSK",
        "outputId": "95b17656-a6c6-45b4-989e-34471d1e6df5",
        "colab": {
          "base_uri": "https://localhost:8080/",
          "height": 109
        }
      },
      "source": [
        "data.columns"
      ],
      "execution_count": 18,
      "outputs": [
        {
          "output_type": "execute_result",
          "data": {
            "text/plain": [
              "Index(['index', 'beer/ABV', 'beer/beerId', 'beer/brewerId', 'beer/name',\n",
              "       'beer/style', 'review/appearance', 'review/aroma', 'review/overall',\n",
              "       'review/palate', 'review/taste', 'review/text', 'review/timeStruct',\n",
              "       'review/timeUnix', 'user/gender', 'user/profileName'],\n",
              "      dtype='object')"
            ]
          },
          "metadata": {
            "tags": []
          },
          "execution_count": 18
        }
      ]
    },
    {
      "cell_type": "code",
      "metadata": {
        "id": "RemZABTnJHSS",
        "outputId": "623e2ccb-1cbb-4846-8041-3e64f744ae29",
        "colab": {
          "base_uri": "https://localhost:8080/",
          "height": 551
        }
      },
      "source": [
        "#Knowing about types and missing percentage of each column\n",
        "dtypes=pd.DataFrame(data.dtypes,columns=['dtypes'])\n",
        "d_missin=pd.DataFrame(data.isnull().mean(),columns=['missin_per'])\n",
        "missn=pd.concat([dtypes,d_missin],axis=1)\n",
        "missn.sort_values(by='missin_per',ascending=False)"
      ],
      "execution_count": 19,
      "outputs": [
        {
          "output_type": "execute_result",
          "data": {
            "text/html": [
              "<div>\n",
              "<style scoped>\n",
              "    .dataframe tbody tr th:only-of-type {\n",
              "        vertical-align: middle;\n",
              "    }\n",
              "\n",
              "    .dataframe tbody tr th {\n",
              "        vertical-align: top;\n",
              "    }\n",
              "\n",
              "    .dataframe thead th {\n",
              "        text-align: right;\n",
              "    }\n",
              "</style>\n",
              "<table border=\"1\" class=\"dataframe\">\n",
              "  <thead>\n",
              "    <tr style=\"text-align: right;\">\n",
              "      <th></th>\n",
              "      <th>dtypes</th>\n",
              "      <th>missin_per</th>\n",
              "    </tr>\n",
              "  </thead>\n",
              "  <tbody>\n",
              "    <tr>\n",
              "      <th>user/gender</th>\n",
              "      <td>object</td>\n",
              "      <td>0.591627</td>\n",
              "    </tr>\n",
              "    <tr>\n",
              "      <th>review/text</th>\n",
              "      <td>object</td>\n",
              "      <td>0.000267</td>\n",
              "    </tr>\n",
              "    <tr>\n",
              "      <th>user/profileName</th>\n",
              "      <td>object</td>\n",
              "      <td>0.000133</td>\n",
              "    </tr>\n",
              "    <tr>\n",
              "      <th>index</th>\n",
              "      <td>int64</td>\n",
              "      <td>0.000000</td>\n",
              "    </tr>\n",
              "    <tr>\n",
              "      <th>beer/ABV</th>\n",
              "      <td>float64</td>\n",
              "      <td>0.000000</td>\n",
              "    </tr>\n",
              "    <tr>\n",
              "      <th>beer/beerId</th>\n",
              "      <td>int64</td>\n",
              "      <td>0.000000</td>\n",
              "    </tr>\n",
              "    <tr>\n",
              "      <th>beer/brewerId</th>\n",
              "      <td>int64</td>\n",
              "      <td>0.000000</td>\n",
              "    </tr>\n",
              "    <tr>\n",
              "      <th>beer/name</th>\n",
              "      <td>object</td>\n",
              "      <td>0.000000</td>\n",
              "    </tr>\n",
              "    <tr>\n",
              "      <th>beer/style</th>\n",
              "      <td>object</td>\n",
              "      <td>0.000000</td>\n",
              "    </tr>\n",
              "    <tr>\n",
              "      <th>review/appearance</th>\n",
              "      <td>float64</td>\n",
              "      <td>0.000000</td>\n",
              "    </tr>\n",
              "    <tr>\n",
              "      <th>review/aroma</th>\n",
              "      <td>float64</td>\n",
              "      <td>0.000000</td>\n",
              "    </tr>\n",
              "    <tr>\n",
              "      <th>review/overall</th>\n",
              "      <td>float64</td>\n",
              "      <td>0.000000</td>\n",
              "    </tr>\n",
              "    <tr>\n",
              "      <th>review/palate</th>\n",
              "      <td>float64</td>\n",
              "      <td>0.000000</td>\n",
              "    </tr>\n",
              "    <tr>\n",
              "      <th>review/taste</th>\n",
              "      <td>float64</td>\n",
              "      <td>0.000000</td>\n",
              "    </tr>\n",
              "    <tr>\n",
              "      <th>review/timeStruct</th>\n",
              "      <td>object</td>\n",
              "      <td>0.000000</td>\n",
              "    </tr>\n",
              "    <tr>\n",
              "      <th>review/timeUnix</th>\n",
              "      <td>int64</td>\n",
              "      <td>0.000000</td>\n",
              "    </tr>\n",
              "  </tbody>\n",
              "</table>\n",
              "</div>"
            ],
            "text/plain": [
              "                    dtypes  missin_per\n",
              "user/gender         object    0.591627\n",
              "review/text         object    0.000267\n",
              "user/profileName    object    0.000133\n",
              "index                int64    0.000000\n",
              "beer/ABV           float64    0.000000\n",
              "beer/beerId          int64    0.000000\n",
              "beer/brewerId        int64    0.000000\n",
              "beer/name           object    0.000000\n",
              "beer/style          object    0.000000\n",
              "review/appearance  float64    0.000000\n",
              "review/aroma       float64    0.000000\n",
              "review/overall     float64    0.000000\n",
              "review/palate      float64    0.000000\n",
              "review/taste       float64    0.000000\n",
              "review/timeStruct   object    0.000000\n",
              "review/timeUnix      int64    0.000000"
            ]
          },
          "metadata": {
            "tags": []
          },
          "execution_count": 19
        }
      ]
    },
    {
      "cell_type": "code",
      "metadata": {
        "id": "WENLsMYdJHSb",
        "outputId": "f11e32f7-6fad-469a-b788-24334b7ad40c",
        "colab": {
          "base_uri": "https://localhost:8080/",
          "height": 35
        }
      },
      "source": [
        "#missing categorical\n",
        "missn_cat=missn[(missn['missin_per']>0)&(missn['dtypes']=='object') ].index\n",
        "missn_cat"
      ],
      "execution_count": 20,
      "outputs": [
        {
          "output_type": "execute_result",
          "data": {
            "text/plain": [
              "Index(['review/text', 'user/gender', 'user/profileName'], dtype='object')"
            ]
          },
          "metadata": {
            "tags": []
          },
          "execution_count": 20
        }
      ]
    },
    {
      "cell_type": "code",
      "metadata": {
        "id": "ptHeTDq5JHSm",
        "outputId": "3c003e0f-0ed5-4da6-d4c9-305f464800bc",
        "colab": {
          "base_uri": "https://localhost:8080/",
          "height": 35
        }
      },
      "source": [
        "#missing numerical \n",
        "missn_numerical=missn[(missn['missin_per']>0)&(missn['dtypes']!='object') ].index\n",
        "missn_numerical"
      ],
      "execution_count": 21,
      "outputs": [
        {
          "output_type": "execute_result",
          "data": {
            "text/plain": [
              "Index([], dtype='object')"
            ]
          },
          "metadata": {
            "tags": []
          },
          "execution_count": 21
        }
      ]
    },
    {
      "cell_type": "code",
      "metadata": {
        "id": "ztc40R8vNb9V",
        "outputId": "882a48d5-1b47-462e-f51c-d702562a3427",
        "colab": {
          "base_uri": "https://localhost:8080/",
          "height": 219
        }
      },
      "source": [
        "!pip install feature_engine"
      ],
      "execution_count": 22,
      "outputs": [
        {
          "output_type": "stream",
          "text": [
            "Requirement already satisfied: feature_engine in /usr/local/lib/python3.6/dist-packages (0.6.1)\n",
            "Requirement already satisfied: numpy>=1.18.2 in /usr/local/lib/python3.6/dist-packages (from feature_engine) (1.18.5)\n",
            "Requirement already satisfied: scikit-learn>=0.22.2 in /usr/local/lib/python3.6/dist-packages (from feature_engine) (0.22.2.post1)\n",
            "Requirement already satisfied: pandas>=1.0.3 in /usr/local/lib/python3.6/dist-packages (from feature_engine) (1.1.2)\n",
            "Requirement already satisfied: statsmodels>=0.11.1 in /usr/local/lib/python3.6/dist-packages (from feature_engine) (0.12.0)\n",
            "Requirement already satisfied: scipy>=1.4.1 in /usr/local/lib/python3.6/dist-packages (from feature_engine) (1.4.1)\n",
            "Requirement already satisfied: joblib>=0.11 in /usr/local/lib/python3.6/dist-packages (from scikit-learn>=0.22.2->feature_engine) (0.16.0)\n",
            "Requirement already satisfied: python-dateutil>=2.7.3 in /usr/local/lib/python3.6/dist-packages (from pandas>=1.0.3->feature_engine) (2.8.1)\n",
            "Requirement already satisfied: pytz>=2017.2 in /usr/local/lib/python3.6/dist-packages (from pandas>=1.0.3->feature_engine) (2018.9)\n",
            "Requirement already satisfied: patsy>=0.5 in /usr/local/lib/python3.6/dist-packages (from statsmodels>=0.11.1->feature_engine) (0.5.1)\n",
            "Requirement already satisfied: six>=1.5 in /usr/local/lib/python3.6/dist-packages (from python-dateutil>=2.7.3->pandas>=1.0.3->feature_engine) (1.15.0)\n"
          ],
          "name": "stdout"
        }
      ]
    },
    {
      "cell_type": "code",
      "metadata": {
        "id": "Vk0qnlhcJHSz"
      },
      "source": [
        "#Handling missing categorical \n",
        "from feature_engine import missing_data_imputers as mdi\n",
        "imputer = mdi.CategoricalVariableImputer(imputation_method='frequent')\n",
        "data[['user/gender', 'user/profileName']]=imputer.fit_transform(data[['user/gender', 'user/profileName']])"
      ],
      "execution_count": 23,
      "outputs": []
    },
    {
      "cell_type": "code",
      "metadata": {
        "id": "QfS7KQq7JHS9"
      },
      "source": [
        "imputer = mdi.CategoricalVariableImputer(imputation_method='missing')\n",
        "data[['review/text']]=imputer.fit_transform(data[['review/text']])"
      ],
      "execution_count": 24,
      "outputs": []
    },
    {
      "cell_type": "code",
      "metadata": {
        "id": "QHF4tIjHJHTG",
        "outputId": "e7ace166-1a47-42a6-d50c-604a6f04374f",
        "colab": {
          "base_uri": "https://localhost:8080/",
          "height": 329
        }
      },
      "source": [
        "data.isna().sum()"
      ],
      "execution_count": 25,
      "outputs": [
        {
          "output_type": "execute_result",
          "data": {
            "text/plain": [
              "index                0\n",
              "beer/ABV             0\n",
              "beer/beerId          0\n",
              "beer/brewerId        0\n",
              "beer/name            0\n",
              "beer/style           0\n",
              "review/appearance    0\n",
              "review/aroma         0\n",
              "review/overall       0\n",
              "review/palate        0\n",
              "review/taste         0\n",
              "review/text          0\n",
              "review/timeStruct    0\n",
              "review/timeUnix      0\n",
              "user/gender          0\n",
              "user/profileName     0\n",
              "dtype: int64"
            ]
          },
          "metadata": {
            "tags": []
          },
          "execution_count": 25
        }
      ]
    },
    {
      "cell_type": "code",
      "metadata": {
        "id": "m7kH50nWJHTh",
        "outputId": "3defe4f4-6f49-4a51-ad95-fda218415f21",
        "colab": {
          "base_uri": "https://localhost:8080/",
          "height": 54
        }
      },
      "source": [
        "import re\n",
        "import nltk\n",
        "nltk.download('stopwords')\n",
        "from nltk.corpus import stopwords\n",
        "from nltk.stem.porter import PorterStemmer"
      ],
      "execution_count": 26,
      "outputs": [
        {
          "output_type": "stream",
          "text": [
            "[nltk_data] Downloading package stopwords to /root/nltk_data...\n",
            "[nltk_data]   Package stopwords is already up-to-date!\n"
          ],
          "name": "stdout"
        }
      ]
    },
    {
      "cell_type": "code",
      "metadata": {
        "id": "ovHByzGXJHTq"
      },
      "source": [
        "# Cleaning the texts\n",
        "corpus = []\n",
        "ps = PorterStemmer()\n",
        "for i in range(0, data.shape[0]):\n",
        "    review = re.sub(r'\\W', ' ', data['review/text'][i])\n",
        "    review = review.lower()\n",
        "    review = re.sub(r'\\s+[a-z]\\s+', ' ', review)\n",
        "    review = re.sub(r'^[a-z]\\s+', ' ', review)\n",
        "    review = re.sub(r'\\s+', ' ', review)\n",
        "    review = review.split()\n",
        "    review = [ps.stem(word) for word in review if not word in set(stopwords.words('english'))]\n",
        "    review = ' '.join(review)\n",
        "    corpus.append(review)"
      ],
      "execution_count": 27,
      "outputs": []
    },
    {
      "cell_type": "code",
      "metadata": {
        "id": "uN3U6v1TR7SO"
      },
      "source": [
        "# Creating the Bag of Words model\n",
        "from sklearn.feature_extraction.text import CountVectorizer\n",
        "cv = CountVectorizer(max_features=5000,min_df=3,max_df=0.6)\n",
        "X0 = cv.fit_transform(corpus).toarray()\n"
      ],
      "execution_count": 28,
      "outputs": []
    },
    {
      "cell_type": "code",
      "metadata": {
        "id": "iQa5GiZSRDSl",
        "outputId": "6abe36f0-0168-4ed7-fb8d-316627f581a4",
        "colab": {
          "base_uri": "https://localhost:8080/",
          "height": 201
        }
      },
      "source": [
        "summ=cv.fit_transform(corpus).sum(axis=0)\n",
        "wrd_freq=[(w,summ[0,idx])for w,idx in cv.vocabulary_.items()]\n",
        "words_freq =sorted(wrd_freq, key = lambda x: x[1], reverse=True)\n",
        "words_freq[:10]"
      ],
      "execution_count": 29,
      "outputs": [
        {
          "output_type": "execute_result",
          "data": {
            "text/plain": [
              "[('hop', 35737),\n",
              " ('malt', 33063),\n",
              " ('sweet', 29888),\n",
              " ('flavor', 28799),\n",
              " ('nice', 27553),\n",
              " ('like', 24905),\n",
              " ('good', 23788),\n",
              " ('smell', 22320),\n",
              " ('bitter', 22182),\n",
              " ('one', 21708)]"
            ]
          },
          "metadata": {
            "tags": []
          },
          "execution_count": 29
        }
      ]
    },
    {
      "cell_type": "code",
      "metadata": {
        "id": "zmIm1J1YlaWs"
      },
      "source": [
        "#transforming Bag of words model to TFIDF model\n",
        "from sklearn.feature_extraction.text import TfidfTransformer\n",
        "trnsformer=TfidfTransformer()\n",
        "X0=trnsformer.fit_transform(X0).toarray()"
      ],
      "execution_count": 30,
      "outputs": []
    },
    {
      "cell_type": "code",
      "metadata": {
        "id": "9A47M4ZXn7Fb"
      },
      "source": [
        "#encoding categorical variables\n",
        "data_model_1=pd.get_dummies(data.drop(['user/ageInSeconds','review/text','index','beer/beerId','beer/brewerId','review/timeStruct','review/timeUnix'],axis=1) ,drop_first=True)"
      ],
      "execution_count": 31,
      "outputs": []
    },
    {
      "cell_type": "code",
      "metadata": {
        "id": "FLxQCw0OLqmE"
      },
      "source": [
        "cl=np.array(cv.get_feature_names()).reshape(-1)"
      ],
      "execution_count": 32,
      "outputs": []
    },
    {
      "cell_type": "code",
      "metadata": {
        "id": "OVUP1snSMH2t"
      },
      "source": [
        "data_model_2=pd.DataFrame(X0,columns=cl)"
      ],
      "execution_count": 33,
      "outputs": []
    },
    {
      "cell_type": "code",
      "metadata": {
        "id": "r3KpVFTUpJFm"
      },
      "source": [
        "X=pd.concat([data_model_1,data_model_2],axis=1,ignore_index=True)"
      ],
      "execution_count": 34,
      "outputs": []
    },
    {
      "cell_type": "code",
      "metadata": {
        "id": "mD2JNwa-H-pE"
      },
      "source": [
        "y = data.iloc[:, 8].values"
      ],
      "execution_count": 35,
      "outputs": []
    },
    {
      "cell_type": "markdown",
      "metadata": {
        "id": "cYjbrHNhHpvJ"
      },
      "source": [
        "### Modelling and Validation metrics"
      ]
    },
    {
      "cell_type": "code",
      "metadata": {
        "id": "fsWktt7Kpqel"
      },
      "source": [
        "# Splitting the dataset into the Training set and Test set\n",
        "from sklearn.model_selection import train_test_split\n",
        "from sklearn.metrics import r2_score\n",
        "from sklearn.metrics import mean_squared_error\n",
        "from sklearn.metrics import mean_absolute_error\n",
        "X_train, X_test, y_train, y_test = train_test_split(X, y, test_size = 0.4, random_state = 0)"
      ],
      "execution_count": 36,
      "outputs": []
    },
    {
      "cell_type": "code",
      "metadata": {
        "id": "cwVw8bUi2v-m",
        "outputId": "1eb9f7bf-981a-44c9-b6d1-d47e3ca74715",
        "colab": {
          "base_uri": "https://localhost:8080/",
          "height": 35
        }
      },
      "source": [
        "# fitting train data to the regression\n",
        "from sklearn.linear_model import LinearRegression\n",
        "\n",
        "regressor= LinearRegression()\n",
        "regressor.fit(X_train, y_train)"
      ],
      "execution_count": 37,
      "outputs": [
        {
          "output_type": "execute_result",
          "data": {
            "text/plain": [
              "LinearRegression(copy_X=True, fit_intercept=True, n_jobs=None, normalize=False)"
            ]
          },
          "metadata": {
            "tags": []
          },
          "execution_count": 37
        }
      ]
    },
    {
      "cell_type": "code",
      "metadata": {
        "id": "4XQb7dPK20sh",
        "outputId": "128f0162-7fcb-43fb-f6a3-4a3aed647a08",
        "colab": {
          "base_uri": "https://localhost:8080/",
          "height": 206
        }
      },
      "source": [
        "# making predictions\n",
        "y_pred = regressor.predict(X_test)\n",
        "pred_real=pd.DataFrame(columns=['y_pred','y_test'])\n",
        "pred_real['y_pred']=np.array(y_pred).reshape(-1)\n",
        "pred_real['y_test']=np.array(y_test).reshape(-1)\n",
        "pred_real.head()"
      ],
      "execution_count": 38,
      "outputs": [
        {
          "output_type": "execute_result",
          "data": {
            "text/html": [
              "<div>\n",
              "<style scoped>\n",
              "    .dataframe tbody tr th:only-of-type {\n",
              "        vertical-align: middle;\n",
              "    }\n",
              "\n",
              "    .dataframe tbody tr th {\n",
              "        vertical-align: top;\n",
              "    }\n",
              "\n",
              "    .dataframe thead th {\n",
              "        text-align: right;\n",
              "    }\n",
              "</style>\n",
              "<table border=\"1\" class=\"dataframe\">\n",
              "  <thead>\n",
              "    <tr style=\"text-align: right;\">\n",
              "      <th></th>\n",
              "      <th>y_pred</th>\n",
              "      <th>y_test</th>\n",
              "    </tr>\n",
              "  </thead>\n",
              "  <tbody>\n",
              "    <tr>\n",
              "      <th>0</th>\n",
              "      <td>4.0</td>\n",
              "      <td>4.0</td>\n",
              "    </tr>\n",
              "    <tr>\n",
              "      <th>1</th>\n",
              "      <td>4.0</td>\n",
              "      <td>4.0</td>\n",
              "    </tr>\n",
              "    <tr>\n",
              "      <th>2</th>\n",
              "      <td>3.5</td>\n",
              "      <td>3.5</td>\n",
              "    </tr>\n",
              "    <tr>\n",
              "      <th>3</th>\n",
              "      <td>4.5</td>\n",
              "      <td>4.5</td>\n",
              "    </tr>\n",
              "    <tr>\n",
              "      <th>4</th>\n",
              "      <td>4.0</td>\n",
              "      <td>4.0</td>\n",
              "    </tr>\n",
              "  </tbody>\n",
              "</table>\n",
              "</div>"
            ],
            "text/plain": [
              "   y_pred  y_test\n",
              "0     4.0     4.0\n",
              "1     4.0     4.0\n",
              "2     3.5     3.5\n",
              "3     4.5     4.5\n",
              "4     4.0     4.0"
            ]
          },
          "metadata": {
            "tags": []
          },
          "execution_count": 38
        }
      ]
    },
    {
      "cell_type": "code",
      "metadata": {
        "id": "jl6aPTHD28p1",
        "outputId": "26133fe6-4fb2-4bba-b840-27d26e9a5353",
        "colab": {
          "base_uri": "https://localhost:8080/",
          "height": 35
        }
      },
      "source": [
        "regressor.score(X_test,y_test)"
      ],
      "execution_count": 39,
      "outputs": [
        {
          "output_type": "execute_result",
          "data": {
            "text/plain": [
              "0.9999620991225923"
            ]
          },
          "metadata": {
            "tags": []
          },
          "execution_count": 39
        }
      ]
    },
    {
      "cell_type": "code",
      "metadata": {
        "id": "s3600dOG3BU7",
        "outputId": "29c11baa-5754-4c6b-b895-44d633f723db",
        "colab": {
          "base_uri": "https://localhost:8080/",
          "height": 109
        }
      },
      "source": [
        "print(\"Multiple Linear regression gives R2 score\",r2_score(y_pred,y_test))\n",
        "print('Multiple Linear regression gives MSE is:',mean_squared_error(y_test, y_pred))\n",
        "rmse = np.sqrt(mean_squared_error(y_test, y_pred))\n",
        "print('Multiple Linear regression gives RMSE is:',rmse)\n",
        "print('Mean Absolute error',mean_absolute_error(y_test, y_pred))\n",
        "print(\"-------------------------------------------\")"
      ],
      "execution_count": 40,
      "outputs": [
        {
          "output_type": "stream",
          "text": [
            "Multiple Linear regression gives R2 score 0.9999621037190899\n",
            "Multiple Linear regression gives MSE is: 1.82578101076948e-05\n",
            "Multiple Linear regression gives RMSE is: 0.0042729158788460606\n",
            "Mean Absolute error 0.0001229251301978027\n",
            "-------------------------------------------\n"
          ],
          "name": "stdout"
        }
      ]
    },
    {
      "cell_type": "code",
      "metadata": {
        "id": "3bcdQPzSp-Tg",
        "outputId": "0fe02a09-61d4-4ae4-8703-4d511f21f220",
        "colab": {
          "base_uri": "https://localhost:8080/",
          "height": 146
        }
      },
      "source": [
        "# Fitting Random Forest Regression to the dataset\n",
        "from sklearn.ensemble import RandomForestRegressor\n",
        "regressor = RandomForestRegressor(n_estimators = 10, random_state = 0)\n",
        "regressor.fit(X_train, y_train)"
      ],
      "execution_count": 41,
      "outputs": [
        {
          "output_type": "execute_result",
          "data": {
            "text/plain": [
              "RandomForestRegressor(bootstrap=True, ccp_alpha=0.0, criterion='mse',\n",
              "                      max_depth=None, max_features='auto', max_leaf_nodes=None,\n",
              "                      max_samples=None, min_impurity_decrease=0.0,\n",
              "                      min_impurity_split=None, min_samples_leaf=1,\n",
              "                      min_samples_split=2, min_weight_fraction_leaf=0.0,\n",
              "                      n_estimators=10, n_jobs=None, oob_score=False,\n",
              "                      random_state=0, verbose=0, warm_start=False)"
            ]
          },
          "metadata": {
            "tags": []
          },
          "execution_count": 41
        }
      ]
    },
    {
      "cell_type": "code",
      "metadata": {
        "id": "9RBXFPcB1k00",
        "outputId": "6240491c-4332-44d9-9be4-7295058759a6",
        "colab": {
          "base_uri": "https://localhost:8080/",
          "height": 206
        }
      },
      "source": [
        "# making predictions\n",
        "y_pred = regressor.predict(X_test)\n",
        "pred_real=pd.DataFrame(columns=['y_pred','y_test'])\n",
        "pred_real['y_pred']=y_pred\n",
        "pred_real['y_test']=np.array(y_test).reshape(-1)\n",
        "pred_real.head()"
      ],
      "execution_count": 42,
      "outputs": [
        {
          "output_type": "execute_result",
          "data": {
            "text/html": [
              "<div>\n",
              "<style scoped>\n",
              "    .dataframe tbody tr th:only-of-type {\n",
              "        vertical-align: middle;\n",
              "    }\n",
              "\n",
              "    .dataframe tbody tr th {\n",
              "        vertical-align: top;\n",
              "    }\n",
              "\n",
              "    .dataframe thead th {\n",
              "        text-align: right;\n",
              "    }\n",
              "</style>\n",
              "<table border=\"1\" class=\"dataframe\">\n",
              "  <thead>\n",
              "    <tr style=\"text-align: right;\">\n",
              "      <th></th>\n",
              "      <th>y_pred</th>\n",
              "      <th>y_test</th>\n",
              "    </tr>\n",
              "  </thead>\n",
              "  <tbody>\n",
              "    <tr>\n",
              "      <th>0</th>\n",
              "      <td>4.0</td>\n",
              "      <td>4.0</td>\n",
              "    </tr>\n",
              "    <tr>\n",
              "      <th>1</th>\n",
              "      <td>4.0</td>\n",
              "      <td>4.0</td>\n",
              "    </tr>\n",
              "    <tr>\n",
              "      <th>2</th>\n",
              "      <td>3.5</td>\n",
              "      <td>3.5</td>\n",
              "    </tr>\n",
              "    <tr>\n",
              "      <th>3</th>\n",
              "      <td>4.5</td>\n",
              "      <td>4.5</td>\n",
              "    </tr>\n",
              "    <tr>\n",
              "      <th>4</th>\n",
              "      <td>4.0</td>\n",
              "      <td>4.0</td>\n",
              "    </tr>\n",
              "  </tbody>\n",
              "</table>\n",
              "</div>"
            ],
            "text/plain": [
              "   y_pred  y_test\n",
              "0     4.0     4.0\n",
              "1     4.0     4.0\n",
              "2     3.5     3.5\n",
              "3     4.5     4.5\n",
              "4     4.0     4.0"
            ]
          },
          "metadata": {
            "tags": []
          },
          "execution_count": 42
        }
      ]
    },
    {
      "cell_type": "code",
      "metadata": {
        "id": "OPLMGVsI2Ome",
        "outputId": "623337e8-bd12-42e0-9905-ca76824bdc77",
        "colab": {
          "base_uri": "https://localhost:8080/",
          "height": 35
        }
      },
      "source": [
        "regressor.score(X_test,y_test)"
      ],
      "execution_count": 43,
      "outputs": [
        {
          "output_type": "execute_result",
          "data": {
            "text/plain": [
              "0.9998616085310553"
            ]
          },
          "metadata": {
            "tags": []
          },
          "execution_count": 43
        }
      ]
    },
    {
      "cell_type": "code",
      "metadata": {
        "id": "vqO4Q2dy2XC6",
        "outputId": "49deefb4-62b7-428c-afaf-0e7d93e715eb",
        "colab": {
          "base_uri": "https://localhost:8080/",
          "height": 109
        }
      },
      "source": [
        "\n",
        "print(\"Random Forest Regression gives R2 score\",r2_score(y_pred,y_test))\n",
        "print('Random Forest Regression gives MSE is:',mean_squared_error(y_test, y_pred))\n",
        "rmse = np.sqrt(mean_squared_error(y_test, y_pred))\n",
        "print('Random Forest Regression gives RMSE is:',rmse)\n",
        "print('Mean Absolute error',mean_absolute_error(y_test, y_pred))\n",
        "print(\"-------------------------------------------\")"
      ],
      "execution_count": 44,
      "outputs": [
        {
          "output_type": "stream",
          "text": [
            "Random Forest Regression gives R2 score 0.9998614785456817\n",
            "Random Forest Regression gives MSE is: 6.666666666666667e-05\n",
            "Random Forest Regression gives RMSE is: 0.008164965809277261\n",
            "Mean Absolute error 6.666666666666667e-05\n",
            "-------------------------------------------\n"
          ],
          "name": "stdout"
        }
      ]
    },
    {
      "cell_type": "code",
      "metadata": {
        "id": "TUSKh4dR2iwy"
      },
      "source": [
        ""
      ],
      "execution_count": 44,
      "outputs": []
    },
    {
      "cell_type": "code",
      "metadata": {
        "id": "YkmCfzEVkXOt"
      },
      "source": [
        ""
      ],
      "execution_count": null,
      "outputs": []
    }
  ]
}